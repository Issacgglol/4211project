{
  "nbformat": 4,
  "nbformat_minor": 0,
  "metadata": {
    "colab": {
      "provenance": []
    },
    "kernelspec": {
      "name": "python3",
      "display_name": "Python 3"
    },
    "language_info": {
      "name": "python"
    }
  },
  "cells": [
    {
      "cell_type": "code",
      "execution_count": 2,
      "metadata": {
        "id": "V6-_Ze-4GUAj",
        "colab": {
          "base_uri": "https://localhost:8080/"
        },
        "outputId": "17f7fd11-8dd5-4eb3-f164-80aa1f3f30be"
      },
      "outputs": [
        {
          "output_type": "stream",
          "name": "stdout",
          "text": [
            "Drive already mounted at /content/drive; to attempt to forcibly remount, call drive.mount(\"/content/drive\", force_remount=True).\n"
          ]
        }
      ],
      "source": [
        "from google.colab import drive\n",
        "import os\n",
        "drive.mount('/content/drive')\n",
        "data_path = \"/content/drive/My Drive/COMP4211_Project_dataset\"\n",
        "data_zip=os.path.join(data_path, 'Dataset.zip')\n",
        "# vgg_path = os.path.join(data_path, 'vgg19.npz')\n",
        "\n",
        "# pacs_zip = os.path.join(data_path, 'classify/pacs-dataset.zip')\n",
        "# wikiart_zip = os.path.join(data_path, 'wikiart.zip')\n",
        "# coco_zip = os.path.join(data_path, 'COCO.zip')\n",
        "\n",
        "# pacs_path = \"classify\"\n",
        "# wikiart_path = \"wikiart\"\n",
        "# coco_path = \"COCO\""
      ]
    },
    {
      "cell_type": "code",
      "source": [
        "!unzip \"$data_zip\" > /dev/null 2>&1"
      ],
      "metadata": {
        "id": "fFRm5ixiMbhI"
      },
      "execution_count": 3,
      "outputs": []
    },
    {
      "cell_type": "code",
      "source": [
        "# Basic Libraries\n",
        "import numpy as np\n",
        "import pandas as pd\n",
        "import tensorflow as tf\n",
        "\n",
        "# Important submodules and functions from Tensorflow (and Keras)\n",
        "from tensorflow.keras.layers import Input, Dense, Conv2D, UpSampling2D, Reshape, MaxPooling2D, Lambda, Layer, GlobalAveragePooling2D\n",
        "from tensorflow.keras.models import Sequential, Model, load_model\n",
        "from tensorflow.keras.preprocessing.image import array_to_img\n",
        "from tensorflow.keras.optimizers import Adam #added\n",
        "# Image handling and visualization\n",
        "from matplotlib import pyplot as plt\n",
        "from matplotlib import image as mpimg\n",
        "from IPython.display import display\n",
        "from tqdm.notebook import tqdm\n",
        "import cv2\n",
        "\n",
        "# Other utility\n",
        "import datetime\n",
        "import psutil\n",
        "\n",
        "# Module settings:\n",
        "os.environ['TF_CPP_MIN_LOG_LEVEL'] = '3'  # This will hide all TensorFlow messages, except for errors.\n",
        "tf.get_logger().setLevel('ERROR')  # This sets TensorFlow logger to only output error messages."
      ],
      "metadata": {
        "id": "Q3yOZh-pM0hA"
      },
      "execution_count": 4,
      "outputs": []
    }
  ]
}